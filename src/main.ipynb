{
 "metadata": {
  "language_info": {
   "codemirror_mode": {
    "name": "ipython",
    "version": 3
   },
   "file_extension": ".py",
   "mimetype": "text/x-python",
   "name": "python",
   "nbconvert_exporter": "python",
   "pygments_lexer": "ipython3",
   "version": "3.9.4"
  },
  "orig_nbformat": 2,
  "kernelspec": {
   "name": "python394jvsc74a57bd00ec66bbe782f389edb8615b95e71913b48001538f92dc4d53a6c71a0eff16772",
   "display_name": "Python 3.9.4 64-bit"
  }
 },
 "nbformat": 4,
 "nbformat_minor": 2,
 "cells": [
  {
   "cell_type": "code",
   "execution_count": 31,
   "metadata": {},
   "outputs": [
    {
     "output_type": "execute_result",
     "data": {
      "text/plain": [
       "       HEADING      LOCA_ID SCPG_TESN SCPT_DPTH SCPT_RES SCPT_FRES SCPT_PWP2  \\\n",
       "count     1531         1531      1531      1531     1531      1531      1531   \n",
       "unique       1            1        11      1531     1497      1527      1297   \n",
       "top       DATA  HKN14-BH-SA     CPT03     30.98   39.190   244.362     319.3   \n",
       "freq      1531         1531       140         1        2         2         5   \n",
       "\n",
       "       SCPT_FRR SCPT_QT SCPT_QNET  SCPT_BQ SCPT_CIC1 SCPT_CISB SCPT_NQC1  \\\n",
       "count      1531    1531      1531     1531      1357      1357      1357   \n",
       "unique      593    1493      1494      295       111        98       864   \n",
       "top       0.760  29.393    35.784  -0.0006      1.95      1.42      73.8   \n",
       "freq         12       3         2       76        50        76         6   \n",
       "\n",
       "       SCPT_NRF1 SCPT_CUW1 FILE_FSET  \n",
       "count       1357      1357         0  \n",
       "unique       524         1         0  \n",
       "top        0.796     19.70       NaN  \n",
       "freq          12      1357       NaN  "
      ],
      "text/html": "<div>\n<style scoped>\n    .dataframe tbody tr th:only-of-type {\n        vertical-align: middle;\n    }\n\n    .dataframe tbody tr th {\n        vertical-align: top;\n    }\n\n    .dataframe thead th {\n        text-align: right;\n    }\n</style>\n<table border=\"1\" class=\"dataframe\">\n  <thead>\n    <tr style=\"text-align: right;\">\n      <th></th>\n      <th>HEADING</th>\n      <th>LOCA_ID</th>\n      <th>SCPG_TESN</th>\n      <th>SCPT_DPTH</th>\n      <th>SCPT_RES</th>\n      <th>SCPT_FRES</th>\n      <th>SCPT_PWP2</th>\n      <th>SCPT_FRR</th>\n      <th>SCPT_QT</th>\n      <th>SCPT_QNET</th>\n      <th>SCPT_BQ</th>\n      <th>SCPT_CIC1</th>\n      <th>SCPT_CISB</th>\n      <th>SCPT_NQC1</th>\n      <th>SCPT_NRF1</th>\n      <th>SCPT_CUW1</th>\n      <th>FILE_FSET</th>\n    </tr>\n  </thead>\n  <tbody>\n    <tr>\n      <th>count</th>\n      <td>1531</td>\n      <td>1531</td>\n      <td>1531</td>\n      <td>1531</td>\n      <td>1531</td>\n      <td>1531</td>\n      <td>1531</td>\n      <td>1531</td>\n      <td>1531</td>\n      <td>1531</td>\n      <td>1531</td>\n      <td>1357</td>\n      <td>1357</td>\n      <td>1357</td>\n      <td>1357</td>\n      <td>1357</td>\n      <td>0</td>\n    </tr>\n    <tr>\n      <th>unique</th>\n      <td>1</td>\n      <td>1</td>\n      <td>11</td>\n      <td>1531</td>\n      <td>1497</td>\n      <td>1527</td>\n      <td>1297</td>\n      <td>593</td>\n      <td>1493</td>\n      <td>1494</td>\n      <td>295</td>\n      <td>111</td>\n      <td>98</td>\n      <td>864</td>\n      <td>524</td>\n      <td>1</td>\n      <td>0</td>\n    </tr>\n    <tr>\n      <th>top</th>\n      <td>DATA</td>\n      <td>HKN14-BH-SA</td>\n      <td>CPT03</td>\n      <td>30.98</td>\n      <td>39.190</td>\n      <td>244.362</td>\n      <td>319.3</td>\n      <td>0.760</td>\n      <td>29.393</td>\n      <td>35.784</td>\n      <td>-0.0006</td>\n      <td>1.95</td>\n      <td>1.42</td>\n      <td>73.8</td>\n      <td>0.796</td>\n      <td>19.70</td>\n      <td>NaN</td>\n    </tr>\n    <tr>\n      <th>freq</th>\n      <td>1531</td>\n      <td>1531</td>\n      <td>140</td>\n      <td>1</td>\n      <td>2</td>\n      <td>2</td>\n      <td>5</td>\n      <td>12</td>\n      <td>3</td>\n      <td>2</td>\n      <td>76</td>\n      <td>50</td>\n      <td>76</td>\n      <td>6</td>\n      <td>12</td>\n      <td>1357</td>\n      <td>NaN</td>\n    </tr>\n  </tbody>\n</table>\n</div>"
     },
     "metadata": {},
     "execution_count": 31
    }
   ],
   "source": [
    "\n",
    "import pandas as pd\n",
    "import numpy as np\n",
    "soil_data = pd.read_csv(\"../data/input.csv\")\n",
    "soil_data = soil_data.drop(labels=[0, 1])\n",
    "soil_data = soil_data.dropna(subset=[\"SCPT_QT\", \"SCPT_FRES\"])\n",
    "soil_data.describe()\n",
    "\n"
   ]
  },
  {
   "cell_type": "code",
   "execution_count": 26,
   "metadata": {},
   "outputs": [
    {
     "output_type": "execute_result",
     "data": {
      "text/plain": [
       "0"
      ]
     },
     "metadata": {},
     "execution_count": 26
    }
   ],
   "source": [
    "soil_data[\"SCPT_QT\"].isna().sum()\n",
    "soil_data[\"SCPT_FRES\"].isna().sum()"
   ]
  },
  {
   "cell_type": "code",
   "execution_count": 42,
   "metadata": {},
   "outputs": [
    {
     "output_type": "execute_result",
     "data": {
      "text/plain": [
       "5       17.909751\n",
       "6       20.243540\n",
       "7       14.929799\n",
       "8       11.570962\n",
       "9       10.284859\n",
       "          ...    \n",
       "1616     8.854360\n",
       "1617     8.691957\n",
       "1618     8.600168\n",
       "1619     8.579285\n",
       "1620     8.535100\n",
       "Name: friction_ratio, Length: 1531, dtype: float64"
      ]
     },
     "metadata": {},
     "execution_count": 42
    }
   ],
   "source": [
    "\n",
    "# Rf = fs /qt\n",
    "# Rf = friction ratio\n",
    "# fs = SCPT_FRES skin friction\n",
    "# qt = SCPT_QT corrected penetration resistance\n",
    "soil_data[\"friction_ratio\"] = np.float64(soil_data[\"SCPT_FRES\"]) / np.float64(soil_data[\"SCPT_QT\"])\n",
    "soil_data[\"friction_ratio\"]\n",
    "# soil_data_friction_ratio_parameter = soil_data[\"SCPT_FRES\", \"SCPT_QT\"]"
   ]
  },
  {
   "cell_type": "code",
   "execution_count": null,
   "metadata": {},
   "outputs": [],
   "source": [
    "Normalized Cone Resistance 𝑄𝑡 = (𝑞𝑡 − 𝜎𝑣0)/𝜎𝑣0\r\n",
    " Effective Overburden Stress 𝜎𝑣0= Σ(𝑧𝑖∙ 𝛾𝑖) −  u (u is SCPT_PWP2)\r\n"
   ]
  }
 ]
}