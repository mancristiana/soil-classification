{
 "metadata": {
  "language_info": {
   "codemirror_mode": {
    "name": "ipython",
    "version": 3
   },
   "file_extension": ".py",
   "mimetype": "text/x-python",
   "name": "python",
   "nbconvert_exporter": "python",
   "pygments_lexer": "ipython3",
   "version": "3.9.4"
  },
  "orig_nbformat": 2,
  "kernelspec": {
   "name": "python394jvsc74a57bd00ec66bbe782f389edb8615b95e71913b48001538f92dc4d53a6c71a0eff16772",
   "display_name": "Python 3.9.4 64-bit"
  }
 },
 "nbformat": 4,
 "nbformat_minor": 2,
 "cells": [
  {
   "cell_type": "code",
   "execution_count": 1,
   "metadata": {},
   "outputs": [
    {
     "output_type": "execute_result",
     "data": {
      "text/plain": [
       "  HEADING      LOCA_ID SCPG_TESN SCPT_DPTH SCPT_RES SCPT_FRES SCPT_PWP2  \\\n",
       "0    UNIT          NaN       NaN         m    MN/m2     kN/m2     kN/m2   \n",
       "1    TYPE           ID         X       2DP      3DP       3DP       1DP   \n",
       "2    DATA  HKN14-BH-SA     CPT01     26.50    0.650       NaN       NaN   \n",
       "3    DATA  HKN14-BH-SA     CPT01     26.52    1.691       NaN     265.1   \n",
       "4    DATA  HKN14-BH-SA     CPT01     26.54    2.625       NaN     262.2   \n",
       "\n",
       "  SCPT_FRR SCPT_QT SCPT_QNET  SCPT_BQ SCPT_CIC1 SCPT_CISB SCPT_NQC1 SCPT_NRF1  \\\n",
       "0        %   MN/m2     MN/m2      NaN       NaN       NaN       NaN       NaN   \n",
       "1      3DP     3DP       3DP      4DP       2DP       2DP       1DP       3DP   \n",
       "2      NaN   0.718     0.196   0.0374       NaN       NaN       NaN       NaN   \n",
       "3      NaN   1.758     1.235   0.0011       NaN       NaN       NaN       NaN   \n",
       "4      NaN   2.690     2.167  -0.0015       NaN       NaN       NaN       NaN   \n",
       "\n",
       "  SCPT_CUW1 FILE_FSET  \n",
       "0     kN/m3       NaN  \n",
       "1       2DP         X  \n",
       "2       NaN       NaN  \n",
       "3       NaN       NaN  \n",
       "4       NaN       NaN  "
      ],
      "text/html": "<div>\n<style scoped>\n    .dataframe tbody tr th:only-of-type {\n        vertical-align: middle;\n    }\n\n    .dataframe tbody tr th {\n        vertical-align: top;\n    }\n\n    .dataframe thead th {\n        text-align: right;\n    }\n</style>\n<table border=\"1\" class=\"dataframe\">\n  <thead>\n    <tr style=\"text-align: right;\">\n      <th></th>\n      <th>HEADING</th>\n      <th>LOCA_ID</th>\n      <th>SCPG_TESN</th>\n      <th>SCPT_DPTH</th>\n      <th>SCPT_RES</th>\n      <th>SCPT_FRES</th>\n      <th>SCPT_PWP2</th>\n      <th>SCPT_FRR</th>\n      <th>SCPT_QT</th>\n      <th>SCPT_QNET</th>\n      <th>SCPT_BQ</th>\n      <th>SCPT_CIC1</th>\n      <th>SCPT_CISB</th>\n      <th>SCPT_NQC1</th>\n      <th>SCPT_NRF1</th>\n      <th>SCPT_CUW1</th>\n      <th>FILE_FSET</th>\n    </tr>\n  </thead>\n  <tbody>\n    <tr>\n      <th>0</th>\n      <td>UNIT</td>\n      <td>NaN</td>\n      <td>NaN</td>\n      <td>m</td>\n      <td>MN/m2</td>\n      <td>kN/m2</td>\n      <td>kN/m2</td>\n      <td>%</td>\n      <td>MN/m2</td>\n      <td>MN/m2</td>\n      <td>NaN</td>\n      <td>NaN</td>\n      <td>NaN</td>\n      <td>NaN</td>\n      <td>NaN</td>\n      <td>kN/m3</td>\n      <td>NaN</td>\n    </tr>\n    <tr>\n      <th>1</th>\n      <td>TYPE</td>\n      <td>ID</td>\n      <td>X</td>\n      <td>2DP</td>\n      <td>3DP</td>\n      <td>3DP</td>\n      <td>1DP</td>\n      <td>3DP</td>\n      <td>3DP</td>\n      <td>3DP</td>\n      <td>4DP</td>\n      <td>2DP</td>\n      <td>2DP</td>\n      <td>1DP</td>\n      <td>3DP</td>\n      <td>2DP</td>\n      <td>X</td>\n    </tr>\n    <tr>\n      <th>2</th>\n      <td>DATA</td>\n      <td>HKN14-BH-SA</td>\n      <td>CPT01</td>\n      <td>26.50</td>\n      <td>0.650</td>\n      <td>NaN</td>\n      <td>NaN</td>\n      <td>NaN</td>\n      <td>0.718</td>\n      <td>0.196</td>\n      <td>0.0374</td>\n      <td>NaN</td>\n      <td>NaN</td>\n      <td>NaN</td>\n      <td>NaN</td>\n      <td>NaN</td>\n      <td>NaN</td>\n    </tr>\n    <tr>\n      <th>3</th>\n      <td>DATA</td>\n      <td>HKN14-BH-SA</td>\n      <td>CPT01</td>\n      <td>26.52</td>\n      <td>1.691</td>\n      <td>NaN</td>\n      <td>265.1</td>\n      <td>NaN</td>\n      <td>1.758</td>\n      <td>1.235</td>\n      <td>0.0011</td>\n      <td>NaN</td>\n      <td>NaN</td>\n      <td>NaN</td>\n      <td>NaN</td>\n      <td>NaN</td>\n      <td>NaN</td>\n    </tr>\n    <tr>\n      <th>4</th>\n      <td>DATA</td>\n      <td>HKN14-BH-SA</td>\n      <td>CPT01</td>\n      <td>26.54</td>\n      <td>2.625</td>\n      <td>NaN</td>\n      <td>262.2</td>\n      <td>NaN</td>\n      <td>2.690</td>\n      <td>2.167</td>\n      <td>-0.0015</td>\n      <td>NaN</td>\n      <td>NaN</td>\n      <td>NaN</td>\n      <td>NaN</td>\n      <td>NaN</td>\n      <td>NaN</td>\n    </tr>\n  </tbody>\n</table>\n</div>"
     },
     "metadata": {},
     "execution_count": 1
    }
   ],
   "source": [
    "\n",
    "import pandas as pd\n",
    "soil_data = pd.read_csv(\"../data/input.csv\")\n",
    "soil_data.head()"
   ]
  },
  {
   "cell_type": "code",
   "execution_count": null,
   "metadata": {},
   "outputs": [],
   "source": []
  }
 ]
}