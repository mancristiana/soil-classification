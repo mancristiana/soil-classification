{
 "metadata": {
  "language_info": {
   "codemirror_mode": {
    "name": "ipython",
    "version": 3
   },
   "file_extension": ".py",
   "mimetype": "text/x-python",
   "name": "python",
   "nbconvert_exporter": "python",
   "pygments_lexer": "ipython3",
   "version": "3.9.4"
  },
  "orig_nbformat": 2,
  "kernelspec": {
   "name": "python394jvsc74a57bd00ec66bbe782f389edb8615b95e71913b48001538f92dc4d53a6c71a0eff16772",
   "display_name": "Python 3.9.4 64-bit"
  }
 },
 "nbformat": 4,
 "nbformat_minor": 2,
 "cells": [
  {
   "cell_type": "code",
   "execution_count": 56,
   "metadata": {},
   "outputs": [
    {
     "output_type": "execute_result",
     "data": {
      "text/plain": [
       "       SCPT_DPTH [m]  SCPT_RES [MN/m2]  SCPT_FRES [kN/m2]  SCPT_PWP2 [kN/m2]  \\\n",
       "count    1624.000000       1624.000000        1531.000000        1602.000000   \n",
       "mean       42.973750         29.867746         250.821594         263.382834   \n",
       "std         9.521547         11.171482          98.970419         194.740392   \n",
       "min        26.500000          0.252000          35.136000        -224.200000   \n",
       "25%        34.735000         23.846500         190.946500         171.200000   \n",
       "50%        42.970000         30.703500         238.459000         307.600000   \n",
       "75%        51.225000         35.989500         293.596500         405.850000   \n",
       "max        59.420000         59.980000         669.044000         788.100000   \n",
       "\n",
       "       SCPT_FRR [%]  SCPT_QT [MN/m2]  SCPT_QNET [MN/m2]      SCPT_BQ  \\\n",
       "count   1531.000000      1624.000000        1624.000000  1624.000000   \n",
       "mean       0.884401        29.933949          29.087378    -0.006887   \n",
       "std        0.396529        11.171367          11.144544     0.033035   \n",
       "min        0.393000         0.331000          -0.265000    -0.998400   \n",
       "25%        0.734000        23.884000          23.130000    -0.007600   \n",
       "50%        0.789000        30.762500          29.878500    -0.002500   \n",
       "75%        0.877000        36.062500          35.041500    -0.000800   \n",
       "max        3.697000        60.093000          58.947000     0.554900   \n",
       "\n",
       "         SCPT_CIC1    SCPT_CISB    SCPT_NQC1    SCPT_NRF1  SCPT_CUW1 [kN/m3]  \n",
       "count  1414.000000  1414.000000  1414.000000  1414.000000       1.414000e+03  \n",
       "mean      1.872765     1.503762   108.760537     0.878177       1.970000e+01  \n",
       "std       0.197418     0.159499    55.948195     0.406046       3.553971e-15  \n",
       "min       1.520000     1.260000    15.000000     0.405000       1.970000e+01  \n",
       "25%       1.750000     1.410000    73.725000     0.743000       1.970000e+01  \n",
       "50%       1.860000     1.470000    91.950000     0.799000       1.970000e+01  \n",
       "75%       1.960000     1.540000   127.275000     0.878750       1.970000e+01  \n",
       "max       2.940000     2.430000   311.400000     4.183000       1.970000e+01  "
      ],
      "text/html": "<div>\n<style scoped>\n    .dataframe tbody tr th:only-of-type {\n        vertical-align: middle;\n    }\n\n    .dataframe tbody tr th {\n        vertical-align: top;\n    }\n\n    .dataframe thead th {\n        text-align: right;\n    }\n</style>\n<table border=\"1\" class=\"dataframe\">\n  <thead>\n    <tr style=\"text-align: right;\">\n      <th></th>\n      <th>SCPT_DPTH [m]</th>\n      <th>SCPT_RES [MN/m2]</th>\n      <th>SCPT_FRES [kN/m2]</th>\n      <th>SCPT_PWP2 [kN/m2]</th>\n      <th>SCPT_FRR [%]</th>\n      <th>SCPT_QT [MN/m2]</th>\n      <th>SCPT_QNET [MN/m2]</th>\n      <th>SCPT_BQ</th>\n      <th>SCPT_CIC1</th>\n      <th>SCPT_CISB</th>\n      <th>SCPT_NQC1</th>\n      <th>SCPT_NRF1</th>\n      <th>SCPT_CUW1 [kN/m3]</th>\n    </tr>\n  </thead>\n  <tbody>\n    <tr>\n      <th>count</th>\n      <td>1624.000000</td>\n      <td>1624.000000</td>\n      <td>1531.000000</td>\n      <td>1602.000000</td>\n      <td>1531.000000</td>\n      <td>1624.000000</td>\n      <td>1624.000000</td>\n      <td>1624.000000</td>\n      <td>1414.000000</td>\n      <td>1414.000000</td>\n      <td>1414.000000</td>\n      <td>1414.000000</td>\n      <td>1.414000e+03</td>\n    </tr>\n    <tr>\n      <th>mean</th>\n      <td>42.973750</td>\n      <td>29.867746</td>\n      <td>250.821594</td>\n      <td>263.382834</td>\n      <td>0.884401</td>\n      <td>29.933949</td>\n      <td>29.087378</td>\n      <td>-0.006887</td>\n      <td>1.872765</td>\n      <td>1.503762</td>\n      <td>108.760537</td>\n      <td>0.878177</td>\n      <td>1.970000e+01</td>\n    </tr>\n    <tr>\n      <th>std</th>\n      <td>9.521547</td>\n      <td>11.171482</td>\n      <td>98.970419</td>\n      <td>194.740392</td>\n      <td>0.396529</td>\n      <td>11.171367</td>\n      <td>11.144544</td>\n      <td>0.033035</td>\n      <td>0.197418</td>\n      <td>0.159499</td>\n      <td>55.948195</td>\n      <td>0.406046</td>\n      <td>3.553971e-15</td>\n    </tr>\n    <tr>\n      <th>min</th>\n      <td>26.500000</td>\n      <td>0.252000</td>\n      <td>35.136000</td>\n      <td>-224.200000</td>\n      <td>0.393000</td>\n      <td>0.331000</td>\n      <td>-0.265000</td>\n      <td>-0.998400</td>\n      <td>1.520000</td>\n      <td>1.260000</td>\n      <td>15.000000</td>\n      <td>0.405000</td>\n      <td>1.970000e+01</td>\n    </tr>\n    <tr>\n      <th>25%</th>\n      <td>34.735000</td>\n      <td>23.846500</td>\n      <td>190.946500</td>\n      <td>171.200000</td>\n      <td>0.734000</td>\n      <td>23.884000</td>\n      <td>23.130000</td>\n      <td>-0.007600</td>\n      <td>1.750000</td>\n      <td>1.410000</td>\n      <td>73.725000</td>\n      <td>0.743000</td>\n      <td>1.970000e+01</td>\n    </tr>\n    <tr>\n      <th>50%</th>\n      <td>42.970000</td>\n      <td>30.703500</td>\n      <td>238.459000</td>\n      <td>307.600000</td>\n      <td>0.789000</td>\n      <td>30.762500</td>\n      <td>29.878500</td>\n      <td>-0.002500</td>\n      <td>1.860000</td>\n      <td>1.470000</td>\n      <td>91.950000</td>\n      <td>0.799000</td>\n      <td>1.970000e+01</td>\n    </tr>\n    <tr>\n      <th>75%</th>\n      <td>51.225000</td>\n      <td>35.989500</td>\n      <td>293.596500</td>\n      <td>405.850000</td>\n      <td>0.877000</td>\n      <td>36.062500</td>\n      <td>35.041500</td>\n      <td>-0.000800</td>\n      <td>1.960000</td>\n      <td>1.540000</td>\n      <td>127.275000</td>\n      <td>0.878750</td>\n      <td>1.970000e+01</td>\n    </tr>\n    <tr>\n      <th>max</th>\n      <td>59.420000</td>\n      <td>59.980000</td>\n      <td>669.044000</td>\n      <td>788.100000</td>\n      <td>3.697000</td>\n      <td>60.093000</td>\n      <td>58.947000</td>\n      <td>0.554900</td>\n      <td>2.940000</td>\n      <td>2.430000</td>\n      <td>311.400000</td>\n      <td>4.183000</td>\n      <td>1.970000e+01</td>\n    </tr>\n  </tbody>\n</table>\n</div>"
     },
     "metadata": {},
     "execution_count": 56
    }
   ],
   "source": [
    "import pandas as pd\n",
    "import numpy as np\n",
    "import groundhog.general.agsconversion as ghconverter\n",
    "converter = ghconverter.AGSConverter(\"../data/raw/HKN_20190306_FNLM_HKN14-BH-SA_CPT_AGS4.0_V05_F.ags\", encoding='utf8', errors='replace', removedoublequotes=True)\n",
    "\n",
    "scpt_raw_data = converter.convert_ags_group(\"SCPT\")\n",
    "scpt_raw_data.describe()\n",
    "\n"
   ]
  },
  {
   "cell_type": "code",
   "execution_count": 57,
   "metadata": {},
   "outputs": [
    {
     "output_type": "execute_result",
     "data": {
      "text/plain": [
       "   depth  corrected_con_resistance  skin_friction  pore_pressure\n",
       "0  26.50                     0.718            NaN            NaN\n",
       "1  26.52                     1.758            NaN          265.1\n",
       "2  26.54                     2.690            NaN          262.2\n",
       "3  26.56                     2.892         51.795          260.9\n",
       "4  26.58                     3.367         68.160          260.8"
      ],
      "text/html": "<div>\n<style scoped>\n    .dataframe tbody tr th:only-of-type {\n        vertical-align: middle;\n    }\n\n    .dataframe tbody tr th {\n        vertical-align: top;\n    }\n\n    .dataframe thead th {\n        text-align: right;\n    }\n</style>\n<table border=\"1\" class=\"dataframe\">\n  <thead>\n    <tr style=\"text-align: right;\">\n      <th></th>\n      <th>depth</th>\n      <th>corrected_con_resistance</th>\n      <th>skin_friction</th>\n      <th>pore_pressure</th>\n    </tr>\n  </thead>\n  <tbody>\n    <tr>\n      <th>0</th>\n      <td>26.50</td>\n      <td>0.718</td>\n      <td>NaN</td>\n      <td>NaN</td>\n    </tr>\n    <tr>\n      <th>1</th>\n      <td>26.52</td>\n      <td>1.758</td>\n      <td>NaN</td>\n      <td>265.1</td>\n    </tr>\n    <tr>\n      <th>2</th>\n      <td>26.54</td>\n      <td>2.690</td>\n      <td>NaN</td>\n      <td>262.2</td>\n    </tr>\n    <tr>\n      <th>3</th>\n      <td>26.56</td>\n      <td>2.892</td>\n      <td>51.795</td>\n      <td>260.9</td>\n    </tr>\n    <tr>\n      <th>4</th>\n      <td>26.58</td>\n      <td>3.367</td>\n      <td>68.160</td>\n      <td>260.8</td>\n    </tr>\n  </tbody>\n</table>\n</div>"
     },
     "metadata": {},
     "execution_count": 57
    }
   ],
   "source": [
    "\n",
    "# scpt seismic_cone_penetration_testing\n",
    "scpt_named_data = scpt_raw_data.rename(columns={\"SCPT_DPTH [m]\": \"depth\", \"SCPT_QT [MN/m2]\": \"corrected_con_resistance\", \"SCPT_FRES [kN/m2]\": \"skin_friction\", \"SCPT_PWP2 [kN/m2]\": \"pore_pressure\"})\n",
    "scpt_filtered_data = scpt_named_data[[\"depth\", \"corrected_con_resistance\", \"skin_friction\", \"pore_pressure\"]]\n",
    "\n",
    "scpt_filtered_data.describe()\n",
    "scpt_filtered_data.head()\n"
   ]
  },
  {
   "cell_type": "code",
   "execution_count": 58,
   "metadata": {},
   "outputs": [
    {
     "output_type": "execute_result",
     "data": {
      "text/plain": [
       "   depth  corrected_con_resistance  skin_friction  pore_pressure\n",
       "3  26.56                     2.892         51.795          260.9\n",
       "4  26.58                     3.367         68.160          260.8\n",
       "5  26.60                     5.527         82.517          258.4\n",
       "6  26.62                     8.265         95.634          258.0\n",
       "7  26.64                    10.528        108.279          258.0"
      ],
      "text/html": "<div>\n<style scoped>\n    .dataframe tbody tr th:only-of-type {\n        vertical-align: middle;\n    }\n\n    .dataframe tbody tr th {\n        vertical-align: top;\n    }\n\n    .dataframe thead th {\n        text-align: right;\n    }\n</style>\n<table border=\"1\" class=\"dataframe\">\n  <thead>\n    <tr style=\"text-align: right;\">\n      <th></th>\n      <th>depth</th>\n      <th>corrected_con_resistance</th>\n      <th>skin_friction</th>\n      <th>pore_pressure</th>\n    </tr>\n  </thead>\n  <tbody>\n    <tr>\n      <th>3</th>\n      <td>26.56</td>\n      <td>2.892</td>\n      <td>51.795</td>\n      <td>260.9</td>\n    </tr>\n    <tr>\n      <th>4</th>\n      <td>26.58</td>\n      <td>3.367</td>\n      <td>68.160</td>\n      <td>260.8</td>\n    </tr>\n    <tr>\n      <th>5</th>\n      <td>26.60</td>\n      <td>5.527</td>\n      <td>82.517</td>\n      <td>258.4</td>\n    </tr>\n    <tr>\n      <th>6</th>\n      <td>26.62</td>\n      <td>8.265</td>\n      <td>95.634</td>\n      <td>258.0</td>\n    </tr>\n    <tr>\n      <th>7</th>\n      <td>26.64</td>\n      <td>10.528</td>\n      <td>108.279</td>\n      <td>258.0</td>\n    </tr>\n  </tbody>\n</table>\n</div>"
     },
     "metadata": {},
     "execution_count": 58
    }
   ],
   "source": [
    "scpt_data = scpt_filtered_data.dropna(subset=[\"corrected_con_resistance\", \"skin_friction\"])\n",
    "\n",
    "# Check\n",
    "scpt_data[\"corrected_con_resistance\"].isna().sum()\n",
    "scpt_data[\"skin_friction\"].isna().sum()\n",
    "\n",
    "scpt_data.head()\n"
   ]
  },
  {
   "cell_type": "code",
   "execution_count": 59,
   "metadata": {},
   "outputs": [
    {
     "output_type": "execute_result",
     "data": {
      "text/plain": [
       "   depth  corrected_con_resistance  skin_friction  pore_pressure  \\\n",
       "3  26.56                     2.892         51.795          260.9   \n",
       "4  26.58                     3.367         68.160          260.8   \n",
       "5  26.60                     5.527         82.517          258.4   \n",
       "6  26.62                     8.265         95.634          258.0   \n",
       "7  26.64                    10.528        108.279          258.0   \n",
       "\n",
       "   friction_ratio  \n",
       "3       17.909751  \n",
       "4       20.243540  \n",
       "5       14.929799  \n",
       "6       11.570962  \n",
       "7       10.284859  "
      ],
      "text/html": "<div>\n<style scoped>\n    .dataframe tbody tr th:only-of-type {\n        vertical-align: middle;\n    }\n\n    .dataframe tbody tr th {\n        vertical-align: top;\n    }\n\n    .dataframe thead th {\n        text-align: right;\n    }\n</style>\n<table border=\"1\" class=\"dataframe\">\n  <thead>\n    <tr style=\"text-align: right;\">\n      <th></th>\n      <th>depth</th>\n      <th>corrected_con_resistance</th>\n      <th>skin_friction</th>\n      <th>pore_pressure</th>\n      <th>friction_ratio</th>\n    </tr>\n  </thead>\n  <tbody>\n    <tr>\n      <th>3</th>\n      <td>26.56</td>\n      <td>2.892</td>\n      <td>51.795</td>\n      <td>260.9</td>\n      <td>17.909751</td>\n    </tr>\n    <tr>\n      <th>4</th>\n      <td>26.58</td>\n      <td>3.367</td>\n      <td>68.160</td>\n      <td>260.8</td>\n      <td>20.243540</td>\n    </tr>\n    <tr>\n      <th>5</th>\n      <td>26.60</td>\n      <td>5.527</td>\n      <td>82.517</td>\n      <td>258.4</td>\n      <td>14.929799</td>\n    </tr>\n    <tr>\n      <th>6</th>\n      <td>26.62</td>\n      <td>8.265</td>\n      <td>95.634</td>\n      <td>258.0</td>\n      <td>11.570962</td>\n    </tr>\n    <tr>\n      <th>7</th>\n      <td>26.64</td>\n      <td>10.528</td>\n      <td>108.279</td>\n      <td>258.0</td>\n      <td>10.284859</td>\n    </tr>\n  </tbody>\n</table>\n</div>"
     },
     "metadata": {},
     "execution_count": 59
    }
   ],
   "source": [
    "\n",
    "# Rf = fs /qt\n",
    "# Rf = friction ratio\n",
    "# fs = SCPT_FRES skin friction\n",
    "# qt = SCPT_QT corrected penetration resistance\n",
    "friction_ratio = scpt_data[\"skin_friction\"] / scpt_data[\"corrected_con_resistance\"]\n",
    "scpt_data.insert(4, \"friction_ratio\", friction_ratio)\n",
    "scpt_data.head()\n",
    "# soil_data_friction_ratio_parameter = soil_data[\"SCPT_FRES\", \"SCPT_QT\"]"
   ]
  },
  {
   "cell_type": "code",
   "execution_count": 60,
   "metadata": {},
   "outputs": [
    {
     "output_type": "execute_result",
     "data": {
      "text/plain": [
       "   depth  corrected_con_resistance  skin_friction  pore_pressure  \\\n",
       "3  26.56                     2.892         51.795          260.9   \n",
       "4  26.58                     3.367         68.160          260.8   \n",
       "5  26.60                     5.527         82.517          258.4   \n",
       "6  26.62                     8.265         95.634          258.0   \n",
       "7  26.64                    10.528        108.279          258.0   \n",
       "\n",
       "   friction_ratio  stress  \n",
       "3       17.909751     4.7  \n",
       "4       20.243540     5.0  \n",
       "5       14.929799     7.6  \n",
       "6       11.570962     8.2  \n",
       "7       10.284859     8.4  "
      ],
      "text/html": "<div>\n<style scoped>\n    .dataframe tbody tr th:only-of-type {\n        vertical-align: middle;\n    }\n\n    .dataframe tbody tr th {\n        vertical-align: top;\n    }\n\n    .dataframe thead th {\n        text-align: right;\n    }\n</style>\n<table border=\"1\" class=\"dataframe\">\n  <thead>\n    <tr style=\"text-align: right;\">\n      <th></th>\n      <th>depth</th>\n      <th>corrected_con_resistance</th>\n      <th>skin_friction</th>\n      <th>pore_pressure</th>\n      <th>friction_ratio</th>\n      <th>stress</th>\n    </tr>\n  </thead>\n  <tbody>\n    <tr>\n      <th>3</th>\n      <td>26.56</td>\n      <td>2.892</td>\n      <td>51.795</td>\n      <td>260.9</td>\n      <td>17.909751</td>\n      <td>4.7</td>\n    </tr>\n    <tr>\n      <th>4</th>\n      <td>26.58</td>\n      <td>3.367</td>\n      <td>68.160</td>\n      <td>260.8</td>\n      <td>20.243540</td>\n      <td>5.0</td>\n    </tr>\n    <tr>\n      <th>5</th>\n      <td>26.60</td>\n      <td>5.527</td>\n      <td>82.517</td>\n      <td>258.4</td>\n      <td>14.929799</td>\n      <td>7.6</td>\n    </tr>\n    <tr>\n      <th>6</th>\n      <td>26.62</td>\n      <td>8.265</td>\n      <td>95.634</td>\n      <td>258.0</td>\n      <td>11.570962</td>\n      <td>8.2</td>\n    </tr>\n    <tr>\n      <th>7</th>\n      <td>26.64</td>\n      <td>10.528</td>\n      <td>108.279</td>\n      <td>258.0</td>\n      <td>10.284859</td>\n      <td>8.4</td>\n    </tr>\n  </tbody>\n</table>\n</div>"
     },
     "metadata": {},
     "execution_count": 60
    }
   ],
   "source": [
    "# Normalized Cone Resistance 𝑄𝑡 = (𝑞𝑡 − 𝜎𝑣0)/𝜎𝑣0\n",
    "# Effective Overburden Stress 𝜎𝑣0= Σ(𝑧𝑖∙ 𝛾𝑖) − u \n",
    "# qt = corrected_con_resistance\n",
    "# zi = depth\n",
    "# 𝛾𝑖 = 10\n",
    "# u = pore_pressure\n",
    "\n",
    "stress = scpt_data[\"depth\"].multiply(10) - scpt_data[\"pore_pressure\"]\n",
    "scpt_data.insert(5, \"stress\", stress, True)\n",
    "scpt_data.head()"
   ]
  },
  {
   "cell_type": "code",
   "execution_count": null,
   "metadata": {},
   "outputs": [],
   "source": []
  }
 ]
}